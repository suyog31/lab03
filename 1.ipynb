{
 "cells": [
  {
   "cell_type": "markdown",
   "metadata": {},
   "source": [
    "# welcome"
   ]
  },
  {
   "cell_type": "code",
   "execution_count": 2,
   "metadata": {},
   "outputs": [
    {
     "name": "stdout",
     "output_type": "stream",
     "text": [
      "the sum is 6\n"
     ]
    }
   ],
   "source": [
    "sum=0\n",
    "n=int(input(\"enter the number\"))\n",
    "for i in range(n):\n",
    " sum=sum+i\n",
    "print(\"the sum is\",sum) "
   ]
  },
  {
   "cell_type": "code",
   "execution_count": 2,
   "metadata": {},
   "outputs": [
    {
     "name": "stdout",
     "output_type": "stream",
     "text": [
      "you guessed it corrrect\n"
     ]
    }
   ],
   "source": [
    "import random\n",
    "guess=0\n",
    "number=random.randint(1,10)\n",
    "while guess!=number:\n",
    " guess=int(input(\"enter the number\"))\n",
    "if guess>number:\n",
    "  print(\"guess lower\")\n",
    "elif guess<number:\n",
    "  print(\"guess higher\")   \n",
    "else:\n",
    "  print(\"you guessed it corrrect\")   \n",
    " "
   ]
  },
  {
   "cell_type": "code",
   "execution_count": 7,
   "metadata": {},
   "outputs": [
    {
     "name": "stdout",
     "output_type": "stream",
     "text": [
      "0\n",
      "1\n",
      "1\n",
      "2\n",
      "3\n"
     ]
    }
   ],
   "source": [
    "a=0\n",
    "b=1\n",
    "n=int(input(\"enter the range\"))\n",
    "print(a)\n",
    "print(b) \n",
    "for i in range(2,n):\n",
    " c=a+b\n",
    " a=b\n",
    " b=c\n",
    " print(c)"
   ]
  },
  {
   "cell_type": "code",
   "execution_count": 17,
   "metadata": {},
   "outputs": [
    {
     "name": "stdout",
     "output_type": "stream",
     "text": [
      "0\n",
      "1\n",
      "1\n",
      "2\n",
      "3\n"
     ]
    }
   ],
   "source": [
    "def fibonacii_series(n):\n",
    " a=0\n",
    " b=1\n",
    " print(a)\n",
    " print(b)\n",
    " i=2\n",
    " while i<n:\n",
    "  c=a+b\n",
    "  a=b\n",
    "  b=c\n",
    "  print(c)\n",
    "  i=i+1\n",
    "n=int(input(\"enter the range\"))\n",
    "fibonacii_series(n)  "
   ]
  }
 ],
 "metadata": {
  "kernelspec": {
   "display_name": "Python 3",
   "language": "python",
   "name": "python3"
  },
  "language_info": {
   "codemirror_mode": {
    "name": "ipython",
    "version": 3
   },
   "file_extension": ".py",
   "mimetype": "text/x-python",
   "name": "python",
   "nbconvert_exporter": "python",
   "pygments_lexer": "ipython3",
   "version": "3.13.0"
  }
 },
 "nbformat": 4,
 "nbformat_minor": 2
}
